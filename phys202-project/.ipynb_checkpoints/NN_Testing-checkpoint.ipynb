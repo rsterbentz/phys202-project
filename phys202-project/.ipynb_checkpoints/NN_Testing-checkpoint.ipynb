{
 "cells": [
  {
   "cell_type": "code",
   "execution_count": 2,
   "metadata": {
    "collapsed": true
   },
   "outputs": [],
   "source": [
    "import numpy as np\n",
    "\n",
    "from sklearn.datasets import load_digits\n",
    "digits = load_digits()\n",
    "\n",
    "import NN_func as nn"
   ]
  },
  {
   "cell_type": "markdown",
   "metadata": {},
   "source": [
    "create_sets assertion tests"
   ]
  },
  {
   "cell_type": "code",
   "execution_count": 3,
   "metadata": {
    "collapsed": false
   },
   "outputs": [],
   "source": [
    "# %%timeit took a while to run, but returned about 30 seconds to run this test.\n",
    "# This cell confirms that the training and test sets are correctly sized and the training set data correctly corresponds to its target.\n",
    "n = 1000\n",
    "np.random.seed(0)\n",
    "training_set, test_data = nn.create_sets(1000)\n",
    "assert len(training_set['data']) == len(training_set['target']) == n\n",
    "assert len(test_data['data']) == len(test_data['target']) == len(digits.target) - n\n",
    "for i in range(len(training_set['data'])):\n",
    "    for j in range(len(digits.data)):\n",
    "        cnt = 0\n",
    "        for l in range(64):\n",
    "            if training_set['data'][i][l] == digits.data[j][l]:\n",
    "                cnt +=1\n",
    "        if cnt == 64:\n",
    "            assert training_set['target'][i] == digits.target[j]"
   ]
  },
  {
   "cell_type": "markdown",
   "metadata": {},
   "source": [
    "network_setup assertion tests"
   ]
  },
  {
   "cell_type": "code",
   "execution_count": 4,
   "metadata": {
    "collapsed": false
   },
   "outputs": [],
   "source": [
    "ni = 100\n",
    "k = 3\n",
    "npl = 25\n",
    "no = 3\n",
    "w_test, b_test = nn.network_setup(ni,k,npl,no)\n",
    "assert len(w_test) == k+1\n",
    "assert len(b_test) == k+1\n",
    "assert w_test[0].shape == (ni, npl)\n",
    "assert w_test[1].shape == w_test[2].shape == (npl,npl)\n",
    "assert w_test[3].shape == (npl,no)\n",
    "assert b_test[0].shape == b_test[1].shape == b_test[2].shape == (1,npl)\n",
    "assert b_test[3].shape == (1,no)"
   ]
  },
  {
   "cell_type": "markdown",
   "metadata": {},
   "source": [
    "mini_batch assertion tests"
   ]
  },
  {
   "cell_type": "code",
   "execution_count": 5,
   "metadata": {
    "collapsed": false
   },
   "outputs": [],
   "source": [
    "# WARNING: %%timeit gives back a best value of 1 min.\n",
    "# This assertion confirms that mini's elements in 'data' and 'target' still correspond to the same digit, as checked with the original dataset.\n",
    "n = 1000\n",
    "training_set, test_set = nn.create_sets(n)\n",
    "\n",
    "m = 10\n",
    "\n",
    "mini = nn.mini_batch(m,training_set)\n",
    "\n",
    "for i in range(len(mini)):\n",
    "    for j in range(len(mini[i]['data'])):\n",
    "        for p in range(len(digits.data)):\n",
    "            cnt = 0\n",
    "            for l in range(64):\n",
    "                if mini[i]['data'][j][l] == digits.data[p][l]:\n",
    "                    cnt +=1\n",
    "            if cnt == 64:\n",
    "                assert mini[i]['target'][j] == digits.target[p]"
   ]
  },
  {
   "cell_type": "markdown",
   "metadata": {},
   "source": [
    "feedforward assertion tests"
   ]
  },
  {
   "cell_type": "code",
   "execution_count": 6,
   "metadata": {
    "collapsed": false
   },
   "outputs": [],
   "source": [
    "np.random.seed(0)\n",
    "n = 1000\n",
    "ni = 10\n",
    "k = 1\n",
    "npl = 5\n",
    "no = 4\n",
    "w = [np.random.randint(-1,2,size=(ni,npl)),np.random.randint(-1,2,size=(npl,no))]           # Assuming k = 1 is constant for testing purposes\n",
    "b = [np.random.randint(-1,2,size=(1,npl)),np.random.randint(-1,2,size=(1,no))]\n",
    "x = np.random.randint(-1,2,size=(ni))\n",
    "\n",
    "\n",
    "z, a = nn.feedforward(w,b,x,k)\n",
    "\n",
    "# z_math and a_math were obtained by working them out\n",
    "z_math = [np.array([-4,0,0,1,1]),np.array([0.21307237, -0.5, -2.24904479, 0.96211716])]\n",
    "a_math = [np.array([1,-1,1,0,0,0,-1,0,0,0]),np.array([0.01798621,0.5,0.5,0.73105858,0.73105858]),np.array([0.55306747,0.37754067,0.09543189,0.72354549])]\n",
    "for i in range(len(z)):\n",
    "    for j in range(len(z[i])):\n",
    "        assert np.allclose(z[i][j],z_math[i][j], rtol=1e-5, atol=1e-5)\n",
    "for i in range(len(a)):\n",
    "    for j in range(len(a[i])):\n",
    "        assert np.allclose(a[i][j],a_math[i][j], rtol=1e-5, atol=1e-5)"
   ]
  }
 ],
 "metadata": {
  "kernelspec": {
   "display_name": "Python 3",
   "language": "python",
   "name": "python3"
  },
  "language_info": {
   "codemirror_mode": {
    "name": "ipython",
    "version": 3
   },
   "file_extension": ".py",
   "mimetype": "text/x-python",
   "name": "python",
   "nbconvert_exporter": "python",
   "pygments_lexer": "ipython3",
   "version": "3.4.0"
  }
 },
 "nbformat": 4,
 "nbformat_minor": 0
}
